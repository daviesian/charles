{
 "cells": [
  {
   "cell_type": "markdown",
   "metadata": {},
   "source": [
    "# Play with Charles\n",
    "\n",
    "Exploring his parameters"
   ]
  },
  {
   "cell_type": "code",
   "execution_count": null,
   "metadata": {},
   "outputs": [],
   "source": [
    "%load_ext autoreload\n",
    "from time import sleep\n",
    "from IPython.display import display\n",
    "import ipywidgets as widgets"
   ]
  },
  {
   "cell_type": "code",
   "execution_count": null,
   "metadata": {},
   "outputs": [],
   "source": [
    "# Reload charles module when edited\n",
    "%autoreload 1\n",
    "%aimport charles\n",
    "from charles import Charles"
   ]
  },
  {
   "cell_type": "code",
   "execution_count": null,
   "metadata": {},
   "outputs": [],
   "source": [
    "charles = Charles()\n",
    "charles.initialise()\n",
    "\n",
    "print(\"Waking up\")\n",
    "charles.outputs[\"NOD\"].set_float_pos(0.5, 30)\n",
    "charles.wait_until_still()"
   ]
  },
  {
   "cell_type": "code",
   "execution_count": null,
   "metadata": {
    "scrolled": false
   },
   "outputs": [],
   "source": [
    "vw = widgets.IntSlider(\n",
    "        value=10,\n",
    "        min=0, max=100,\n",
    "        step=5,\n",
    "        description=\"Velocity\",\n",
    "        readout=True,\n",
    "        style={'description_width': '30%'},\n",
    "        layout={'width': '50%'}\n",
    "    )\n",
    "display(vw)\n",
    "\n",
    "\n",
    "def on_value_change(change):\n",
    "    action = change['owner'].description\n",
    "    new_val = float(change['new'])\n",
    "    charles.outputs[action].set_float_pos(new_val, velocity=vw.value)\n",
    "\n",
    "for k in charles.outputs.keys():\n",
    "    w = widgets.FloatSlider(\n",
    "        value=0.5,\n",
    "        min=0, max=1.0,\n",
    "        step=0.05,\n",
    "        description=k,\n",
    "        readout=True,\n",
    "        readout_format = '.1f',\n",
    "        style={'description_width': '30%'},\n",
    "        layout={'width': '80%'}\n",
    "    )\n",
    "    w.unobserve_all()\n",
    "    w.observe(on_value_change, names='value')\n",
    "    display(w)"
   ]
  },
  {
   "cell_type": "code",
   "execution_count": null,
   "metadata": {},
   "outputs": [],
   "source": []
  },
  {
   "cell_type": "code",
   "execution_count": null,
   "metadata": {},
   "outputs": [],
   "source": []
  }
 ],
 "metadata": {
  "kernelspec": {
   "display_name": "Python 3",
   "language": "python",
   "name": "python3"
  },
  "language_info": {
   "codemirror_mode": {
    "name": "ipython",
    "version": 3
   },
   "file_extension": ".py",
   "mimetype": "text/x-python",
   "name": "python",
   "nbconvert_exporter": "python",
   "pygments_lexer": "ipython3",
   "version": "3.7.0"
  }
 },
 "nbformat": 4,
 "nbformat_minor": 2
}
