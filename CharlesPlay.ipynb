{
 "cells": [
  {
   "cell_type": "markdown",
   "metadata": {},
   "source": [
    "# Play with Charles\n",
    "\n",
    "Exploring his parameters"
   ]
  },
  {
   "cell_type": "code",
   "execution_count": 1,
   "metadata": {},
   "outputs": [],
   "source": [
    "%load_ext autoreload\n",
    "from time import sleep\n",
    "from IPython.display import display\n",
    "import ipywidgets as widgets"
   ]
  },
  {
   "cell_type": "code",
   "execution_count": 2,
   "metadata": {},
   "outputs": [],
   "source": [
    "# Reload charles module when edited\n",
    "%autoreload 1\n",
    "%aimport charles\n",
    "%aimport ssc32\n",
    "from charles import Charles"
   ]
  },
  {
   "cell_type": "code",
   "execution_count": 3,
   "metadata": {},
   "outputs": [
    {
     "name": "stdout",
     "output_type": "stream",
     "text": [
      "Testing SSC\n",
      "Firmware version: SSC32-V2.03XE\n",
      "Done\n",
      "Initialising...\n",
      "Powering up face servos\n",
      "Waiting for SSC\n",
      "Waiting until still\n",
      "Done\n",
      "Waking up\n"
     ]
    }
   ],
   "source": [
    "charles = Charles()\n",
    "charles.initialise()\n",
    "\n",
    "print(\"Waking up\")\n",
    "charles.outputs[\"NOD\"].set_float_pos(0.5, 30)\n",
    "charles.wait_until_still()"
   ]
  },
  {
   "cell_type": "code",
   "execution_count": 4,
   "metadata": {
    "scrolled": false
   },
   "outputs": [
    {
     "data": {
      "application/vnd.jupyter.widget-view+json": {
       "model_id": "527f73fec20a41188cf8e79942be3740",
       "version_major": 2,
       "version_minor": 0
      },
      "text/plain": [
       "IntSlider(value=10, description='Velocity', layout=Layout(width='50%'), step=5, style=SliderStyle(description_…"
      ]
     },
     "metadata": {},
     "output_type": "display_data"
    },
    {
     "data": {
      "application/vnd.jupyter.widget-view+json": {
       "model_id": "bf3598a5beac4f77b31ec201e67a1663",
       "version_major": 2,
       "version_minor": 0
      },
      "text/plain": [
       "FloatSlider(value=0.5, description='CENTER_BROW (1)', layout=Layout(width='80%'), max=1.0, readout_format='.1f…"
      ]
     },
     "metadata": {},
     "output_type": "display_data"
    },
    {
     "data": {
      "application/vnd.jupyter.widget-view+json": {
       "model_id": "4d6f64749df048558d7e93eda9d3d17c",
       "version_major": 2,
       "version_minor": 0
      },
      "text/plain": [
       "FloatSlider(value=0.5, description='INNER_BROW_RIGHT (2)', layout=Layout(width='80%'), max=1.0, readout_format…"
      ]
     },
     "metadata": {},
     "output_type": "display_data"
    },
    {
     "data": {
      "application/vnd.jupyter.widget-view+json": {
       "model_id": "f2c09d96d61f42f8bf81144dcc9e4c08",
       "version_major": 2,
       "version_minor": 0
      },
      "text/plain": [
       "FloatSlider(value=0.5, description='INNER_BROW_LEFT (3)', layout=Layout(width='80%'), max=1.0, readout_format=…"
      ]
     },
     "metadata": {},
     "output_type": "display_data"
    },
    {
     "data": {
      "application/vnd.jupyter.widget-view+json": {
       "model_id": "4832c13e580046ae84a7551f2e645100",
       "version_major": 2,
       "version_minor": 0
      },
      "text/plain": [
       "FloatSlider(value=0.5, description='OUTER_BROW_RIGHT (4)', layout=Layout(width='80%'), max=1.0, readout_format…"
      ]
     },
     "metadata": {},
     "output_type": "display_data"
    },
    {
     "data": {
      "application/vnd.jupyter.widget-view+json": {
       "model_id": "eaf65acdb75f4e65bfc05f4e3b523197",
       "version_major": 2,
       "version_minor": 0
      },
      "text/plain": [
       "FloatSlider(value=0.5, description='OUTER_BROW_LEFT (5)', layout=Layout(width='80%'), max=1.0, readout_format=…"
      ]
     },
     "metadata": {},
     "output_type": "display_data"
    },
    {
     "data": {
      "application/vnd.jupyter.widget-view+json": {
       "model_id": "c3cab589f97e4451b87aaa29340432f1",
       "version_major": 2,
       "version_minor": 0
      },
      "text/plain": [
       "FloatSlider(value=0.5, description='RIGHT_EYE_TURN (6)', layout=Layout(width='80%'), max=1.0, readout_format='…"
      ]
     },
     "metadata": {},
     "output_type": "display_data"
    },
    {
     "data": {
      "application/vnd.jupyter.widget-view+json": {
       "model_id": "96add5bb69354f79b4c7f161947bf2c6",
       "version_major": 2,
       "version_minor": 0
      },
      "text/plain": [
       "FloatSlider(value=0.5, description='LEFT_EYE_TURN (7)', layout=Layout(width='80%'), max=1.0, readout_format='.…"
      ]
     },
     "metadata": {},
     "output_type": "display_data"
    },
    {
     "data": {
      "application/vnd.jupyter.widget-view+json": {
       "model_id": "4e7bda99e1e14911b63efe08775f13b4",
       "version_major": 2,
       "version_minor": 0
      },
      "text/plain": [
       "FloatSlider(value=0.5, description='UPPER_EYE_LIDS (8)', layout=Layout(width='80%'), max=1.0, readout_format='…"
      ]
     },
     "metadata": {},
     "output_type": "display_data"
    },
    {
     "data": {
      "application/vnd.jupyter.widget-view+json": {
       "model_id": "b5eb64456b7b4fe790aff09006870467",
       "version_major": 2,
       "version_minor": 0
      },
      "text/plain": [
       "FloatSlider(value=0.5, description='LOWER_EYE_LIDS (9)', layout=Layout(width='80%'), max=1.0, readout_format='…"
      ]
     },
     "metadata": {},
     "output_type": "display_data"
    },
    {
     "data": {
      "application/vnd.jupyter.widget-view+json": {
       "model_id": "666894fd81f3459a9ddb72be8dbf6953",
       "version_major": 2,
       "version_minor": 0
      },
      "text/plain": [
       "FloatSlider(value=0.5, description='EYES_UP_DOWN (10)', layout=Layout(width='80%'), max=1.0, readout_format='.…"
      ]
     },
     "metadata": {},
     "output_type": "display_data"
    },
    {
     "data": {
      "application/vnd.jupyter.widget-view+json": {
       "model_id": "07ddea2117fd4bf2863ebdcfd8785ae1",
       "version_major": 2,
       "version_minor": 0
      },
      "text/plain": [
       "FloatSlider(value=0.5, description='SQUINT_RIGHT (11)', layout=Layout(width='80%'), max=1.0, readout_format='.…"
      ]
     },
     "metadata": {},
     "output_type": "display_data"
    },
    {
     "data": {
      "application/vnd.jupyter.widget-view+json": {
       "model_id": "b8910fda17784a9e8550578fed69bfbb",
       "version_major": 2,
       "version_minor": 0
      },
      "text/plain": [
       "FloatSlider(value=0.5, description='SQUINT_LEFT (12)', layout=Layout(width='80%'), max=1.0, readout_format='.1…"
      ]
     },
     "metadata": {},
     "output_type": "display_data"
    },
    {
     "data": {
      "application/vnd.jupyter.widget-view+json": {
       "model_id": "6b3cd83c864f491982a02bef726646f1",
       "version_major": 2,
       "version_minor": 0
      },
      "text/plain": [
       "FloatSlider(value=0.5, description='SNEER_RIGHT (13)', layout=Layout(width='80%'), max=1.0, readout_format='.1…"
      ]
     },
     "metadata": {},
     "output_type": "display_data"
    },
    {
     "data": {
      "application/vnd.jupyter.widget-view+json": {
       "model_id": "5e433f012fc8466891de4e95c0d5b24b",
       "version_major": 2,
       "version_minor": 0
      },
      "text/plain": [
       "FloatSlider(value=0.5, description='SNEER_LEFT (14)', layout=Layout(width='80%'), max=1.0, readout_format='.1f…"
      ]
     },
     "metadata": {},
     "output_type": "display_data"
    },
    {
     "data": {
      "application/vnd.jupyter.widget-view+json": {
       "model_id": "f8a9ff64b2814591b8bd232d6f0b726a",
       "version_major": 2,
       "version_minor": 0
      },
      "text/plain": [
       "FloatSlider(value=0.5, description='LOWER_LIP_RIGHT (15)', layout=Layout(width='80%'), max=1.0, readout_format…"
      ]
     },
     "metadata": {},
     "output_type": "display_data"
    },
    {
     "data": {
      "application/vnd.jupyter.widget-view+json": {
       "model_id": "acc108d0abf14bd0b1e3e0d067152ee7",
       "version_major": 2,
       "version_minor": 0
      },
      "text/plain": [
       "FloatSlider(value=0.5, description='LOWER_LIP_LEFT (16)', layout=Layout(width='80%'), max=1.0, readout_format=…"
      ]
     },
     "metadata": {},
     "output_type": "display_data"
    },
    {
     "data": {
      "application/vnd.jupyter.widget-view+json": {
       "model_id": "f8f41cf7bec749fa8b9c20267124a528",
       "version_major": 2,
       "version_minor": 0
      },
      "text/plain": [
       "FloatSlider(value=0.5, description='LOWER_LIP_CENTER (17)', layout=Layout(width='80%'), max=1.0, readout_forma…"
      ]
     },
     "metadata": {},
     "output_type": "display_data"
    },
    {
     "data": {
      "application/vnd.jupyter.widget-view+json": {
       "model_id": "dc1607b238aa462e870bc6fce7704e5b",
       "version_major": 2,
       "version_minor": 0
      },
      "text/plain": [
       "FloatSlider(value=0.5, description='UPPER_LIP_RIGHT (18)', layout=Layout(width='80%'), max=1.0, readout_format…"
      ]
     },
     "metadata": {},
     "output_type": "display_data"
    },
    {
     "data": {
      "application/vnd.jupyter.widget-view+json": {
       "model_id": "19d7a5a2200b416e89f80c20a5c42f73",
       "version_major": 2,
       "version_minor": 0
      },
      "text/plain": [
       "FloatSlider(value=0.5, description='UPPER_LIP_LEFT (19)', layout=Layout(width='80%'), max=1.0, readout_format=…"
      ]
     },
     "metadata": {},
     "output_type": "display_data"
    },
    {
     "data": {
      "application/vnd.jupyter.widget-view+json": {
       "model_id": "2ec10ae904a54c829c1d0ca362f882bd",
       "version_major": 2,
       "version_minor": 0
      },
      "text/plain": [
       "FloatSlider(value=0.5, description='UPPER_LIP_CENTER (20)', layout=Layout(width='80%'), max=1.0, readout_forma…"
      ]
     },
     "metadata": {},
     "output_type": "display_data"
    },
    {
     "data": {
      "application/vnd.jupyter.widget-view+json": {
       "model_id": "e3e57777b81840149b2cca31ccc8e9f3",
       "version_major": 2,
       "version_minor": 0
      },
      "text/plain": [
       "FloatSlider(value=0.5, description='SMILE_FROWN_RIGHT (21)', layout=Layout(width='80%'), max=1.0, readout_form…"
      ]
     },
     "metadata": {},
     "output_type": "display_data"
    },
    {
     "data": {
      "application/vnd.jupyter.widget-view+json": {
       "model_id": "205fec51da294d6a8105baf5b42038b4",
       "version_major": 2,
       "version_minor": 0
      },
      "text/plain": [
       "FloatSlider(value=0.5, description='EE_OO (22)', layout=Layout(width='80%'), max=1.0, readout_format='.1f', st…"
      ]
     },
     "metadata": {},
     "output_type": "display_data"
    },
    {
     "data": {
      "application/vnd.jupyter.widget-view+json": {
       "model_id": "ac1940fc928d45f89ded12dce23846e9",
       "version_major": 2,
       "version_minor": 0
      },
      "text/plain": [
       "FloatSlider(value=0.5, description='SMILE_FROWN_LEFT (23)', layout=Layout(width='80%'), max=1.0, readout_forma…"
      ]
     },
     "metadata": {},
     "output_type": "display_data"
    },
    {
     "data": {
      "application/vnd.jupyter.widget-view+json": {
       "model_id": "0d26c1d2bcc24959a1a8d1489166ffa0",
       "version_major": 2,
       "version_minor": 0
      },
      "text/plain": [
       "FloatSlider(value=0.5, description='TURN (24)', layout=Layout(width='80%'), max=1.0, readout_format='.1f', ste…"
      ]
     },
     "metadata": {},
     "output_type": "display_data"
    },
    {
     "data": {
      "application/vnd.jupyter.widget-view+json": {
       "model_id": "853a787af8694060bc228800df159982",
       "version_major": 2,
       "version_minor": 0
      },
      "text/plain": [
       "FloatSlider(value=0.5, description='TILT (25)', layout=Layout(width='80%'), max=1.0, readout_format='.1f', ste…"
      ]
     },
     "metadata": {},
     "output_type": "display_data"
    },
    {
     "data": {
      "application/vnd.jupyter.widget-view+json": {
       "model_id": "3004edb2838b4b5a9a687246460a1b97",
       "version_major": 2,
       "version_minor": 0
      },
      "text/plain": [
       "FloatSlider(value=0.5, description='NOD (26)', layout=Layout(width='80%'), max=1.0, readout_format='.1f', step…"
      ]
     },
     "metadata": {},
     "output_type": "display_data"
    },
    {
     "data": {
      "application/vnd.jupyter.widget-view+json": {
       "model_id": "a11e1687cb0241b8957d01b3e67e342a",
       "version_major": 2,
       "version_minor": 0
      },
      "text/plain": [
       "FloatSlider(value=0.5, description='JAW (27)', layout=Layout(width='80%'), max=1.0, readout_format='.1f', step…"
      ]
     },
     "metadata": {},
     "output_type": "display_data"
    }
   ],
   "source": [
    "vw = widgets.IntSlider(\n",
    "        value=10,\n",
    "        min=0, max=100,\n",
    "        step=5,\n",
    "        description=\"Velocity\",\n",
    "        readout=True,\n",
    "        style={'description_width': '30%'},\n",
    "        layout={'width': '50%'}\n",
    "    )\n",
    "display(vw)\n",
    "\n",
    "\n",
    "def on_value_change(change):\n",
    "    action = change['owner'].description.split(\" \")[0]  # Only the first word is the key\n",
    "    new_val = float(change['new'])\n",
    "    charles.outputs[action].set_float_pos(new_val, velocity=vw.value)\n",
    "\n",
    "for k in charles.outputs.keys():\n",
    "    w = widgets.FloatSlider(\n",
    "        value=0.5,\n",
    "        min=0, max=1.0,\n",
    "        step=0.05,\n",
    "        description=\"{} ({})\".format(k, charles.outputs[k].id),\n",
    "        readout=True,\n",
    "        readout_format = '.1f',\n",
    "        style={'description_width': '30%'},\n",
    "        layout={'width': '80%'}\n",
    "    )\n",
    "    w.unobserve_all()\n",
    "    w.observe(on_value_change, names='value')\n",
    "    display(w)"
   ]
  },
  {
   "cell_type": "code",
   "execution_count": null,
   "metadata": {},
   "outputs": [],
   "source": []
  },
  {
   "cell_type": "code",
   "execution_count": null,
   "metadata": {},
   "outputs": [],
   "source": []
  }
 ],
 "metadata": {
  "kernelspec": {
   "display_name": "Python 3",
   "language": "python",
   "name": "python3"
  },
  "language_info": {
   "codemirror_mode": {
    "name": "ipython",
    "version": 3
   },
   "file_extension": ".py",
   "mimetype": "text/x-python",
   "name": "python",
   "nbconvert_exporter": "python",
   "pygments_lexer": "ipython3",
   "version": "3.7.0"
  }
 },
 "nbformat": 4,
 "nbformat_minor": 2
}
