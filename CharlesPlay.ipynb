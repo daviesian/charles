{
 "cells": [
  {
   "cell_type": "markdown",
   "metadata": {},
   "source": [
    "# Play with Charles\n",
    "\n",
    "Exploring his parameters"
   ]
  },
  {
   "cell_type": "code",
   "execution_count": 1,
   "metadata": {},
   "outputs": [],
   "source": [
    "%load_ext autoreload\n",
    "from time import sleep\n",
    "from IPython.display import display\n",
    "import ipywidgets as widgets"
   ]
  },
  {
   "cell_type": "code",
   "execution_count": 2,
   "metadata": {},
   "outputs": [],
   "source": [
    "# Reload charles module when edited\n",
    "%autoreload 1\n",
    "%aimport charles\n",
    "%aimport ssc32\n",
    "from charles import Charles"
   ]
  },
  {
   "cell_type": "code",
   "execution_count": 3,
   "metadata": {},
   "outputs": [
    {
     "name": "stdout",
     "output_type": "stream",
     "text": [
      "Testing SSC\n",
      "Firmware version: SSC32-V2.03XE\n",
      "Done\n",
      "Initialising...\n",
      "Powering up face servos\n",
      "Waiting for SSC\n",
      "Waiting until still\n",
      "Done\n",
      "Waking up\n"
     ]
    }
   ],
   "source": [
    "charles = Charles()\n",
    "charles.initialise()\n",
    "\n",
    "print(\"Waking up\")\n",
    "charles.outputs[\"NOD\"].set_float_pos(0.5, 30)\n",
    "charles.outputs[\"LEFT_EYE_TURN\"].set_float_pos(0.2, 30)\n",
    "charles.outputs[\"LEFT_EYE_TURN\"].set_float_pos(0.8, 30)\n",
    "charles.wait_until_still()"
   ]
  },
  {
   "cell_type": "code",
   "execution_count": 4,
   "metadata": {
    "scrolled": false
   },
   "outputs": [
    {
     "data": {
      "application/vnd.jupyter.widget-view+json": {
       "model_id": "112523e4bae84ba5900f1c3855e7afea",
       "version_major": 2,
       "version_minor": 0
      },
      "text/plain": [
       "IntSlider(value=10, description='Velocity', layout=Layout(width='50%'), step=5, style=SliderStyle(description_…"
      ]
     },
     "metadata": {},
     "output_type": "display_data"
    },
    {
     "data": {
      "application/vnd.jupyter.widget-view+json": {
       "model_id": "11b30282be764f1489219337f26c95da",
       "version_major": 2,
       "version_minor": 0
      },
      "text/plain": [
       "FloatSlider(value=0.5, description='CENTER_BROW (1)', layout=Layout(width='80%'), max=1.0, readout_format='.1f…"
      ]
     },
     "metadata": {},
     "output_type": "display_data"
    },
    {
     "data": {
      "application/vnd.jupyter.widget-view+json": {
       "model_id": "7f1cc99339c64acfa92757bcc36b9005",
       "version_major": 2,
       "version_minor": 0
      },
      "text/plain": [
       "FloatSlider(value=0.5, description='INNER_BROW_RIGHT (2)', layout=Layout(width='80%'), max=1.0, readout_format…"
      ]
     },
     "metadata": {},
     "output_type": "display_data"
    },
    {
     "data": {
      "application/vnd.jupyter.widget-view+json": {
       "model_id": "9923f98f247443eb92462e98fa18adc8",
       "version_major": 2,
       "version_minor": 0
      },
      "text/plain": [
       "FloatSlider(value=0.5, description='INNER_BROW_LEFT (3)', layout=Layout(width='80%'), max=1.0, readout_format=…"
      ]
     },
     "metadata": {},
     "output_type": "display_data"
    },
    {
     "data": {
      "application/vnd.jupyter.widget-view+json": {
       "model_id": "d17a495251ec4f76bd0a14bbc4ec8e16",
       "version_major": 2,
       "version_minor": 0
      },
      "text/plain": [
       "FloatSlider(value=0.5, description='OUTER_BROW_RIGHT (4)', layout=Layout(width='80%'), max=1.0, readout_format…"
      ]
     },
     "metadata": {},
     "output_type": "display_data"
    },
    {
     "data": {
      "application/vnd.jupyter.widget-view+json": {
       "model_id": "233692511e864f4196196db5c593328b",
       "version_major": 2,
       "version_minor": 0
      },
      "text/plain": [
       "FloatSlider(value=0.5, description='OUTER_BROW_LEFT (5)', layout=Layout(width='80%'), max=1.0, readout_format=…"
      ]
     },
     "metadata": {},
     "output_type": "display_data"
    },
    {
     "data": {
      "application/vnd.jupyter.widget-view+json": {
       "model_id": "18a78769340f431db8cdba3a6c3557a1",
       "version_major": 2,
       "version_minor": 0
      },
      "text/plain": [
       "FloatSlider(value=0.5, description='RIGHT_EYE_TURN (6)', layout=Layout(width='80%'), max=1.0, readout_format='…"
      ]
     },
     "metadata": {},
     "output_type": "display_data"
    },
    {
     "data": {
      "application/vnd.jupyter.widget-view+json": {
       "model_id": "f2b28309546e4f8caac0b5d8f55c0000",
       "version_major": 2,
       "version_minor": 0
      },
      "text/plain": [
       "FloatSlider(value=0.5, description='LEFT_EYE_TURN (7)', layout=Layout(width='80%'), max=1.0, readout_format='.…"
      ]
     },
     "metadata": {},
     "output_type": "display_data"
    },
    {
     "data": {
      "application/vnd.jupyter.widget-view+json": {
       "model_id": "78d8058dd9cd41e7af89c9f38d66c9cf",
       "version_major": 2,
       "version_minor": 0
      },
      "text/plain": [
       "FloatSlider(value=0.5, description='UPPER_EYE_LIDS (8)', layout=Layout(width='80%'), max=1.0, readout_format='…"
      ]
     },
     "metadata": {},
     "output_type": "display_data"
    },
    {
     "data": {
      "application/vnd.jupyter.widget-view+json": {
       "model_id": "08b8aad427174267befa7f7d10c66a47",
       "version_major": 2,
       "version_minor": 0
      },
      "text/plain": [
       "FloatSlider(value=0.5, description='LOWER_EYE_LIDS (9)', layout=Layout(width='80%'), max=1.0, readout_format='…"
      ]
     },
     "metadata": {},
     "output_type": "display_data"
    },
    {
     "data": {
      "application/vnd.jupyter.widget-view+json": {
       "model_id": "a187703e100248aeb1e6ab7e3747d4c7",
       "version_major": 2,
       "version_minor": 0
      },
      "text/plain": [
       "FloatSlider(value=0.5, description='EYES_UP_DOWN (10)', layout=Layout(width='80%'), max=1.0, readout_format='.…"
      ]
     },
     "metadata": {},
     "output_type": "display_data"
    },
    {
     "data": {
      "application/vnd.jupyter.widget-view+json": {
       "model_id": "175a8aeccbec443892d9f3ad1340edd7",
       "version_major": 2,
       "version_minor": 0
      },
      "text/plain": [
       "FloatSlider(value=0.5, description='SQUINT_RIGHT (11)', layout=Layout(width='80%'), max=1.0, readout_format='.…"
      ]
     },
     "metadata": {},
     "output_type": "display_data"
    },
    {
     "data": {
      "application/vnd.jupyter.widget-view+json": {
       "model_id": "c8cdb872920a4a2e9553ec79467e6d5d",
       "version_major": 2,
       "version_minor": 0
      },
      "text/plain": [
       "FloatSlider(value=0.5, description='SQUINT_LEFT (12)', layout=Layout(width='80%'), max=1.0, readout_format='.1…"
      ]
     },
     "metadata": {},
     "output_type": "display_data"
    },
    {
     "data": {
      "application/vnd.jupyter.widget-view+json": {
       "model_id": "bef069c48d374ba2b798cd7a534d8984",
       "version_major": 2,
       "version_minor": 0
      },
      "text/plain": [
       "FloatSlider(value=0.5, description='SNEER_RIGHT (13)', layout=Layout(width='80%'), max=1.0, readout_format='.1…"
      ]
     },
     "metadata": {},
     "output_type": "display_data"
    },
    {
     "data": {
      "application/vnd.jupyter.widget-view+json": {
       "model_id": "100193181d75478785913689b519f71e",
       "version_major": 2,
       "version_minor": 0
      },
      "text/plain": [
       "FloatSlider(value=0.5, description='SNEER_LEFT (14)', layout=Layout(width='80%'), max=1.0, readout_format='.1f…"
      ]
     },
     "metadata": {},
     "output_type": "display_data"
    },
    {
     "data": {
      "application/vnd.jupyter.widget-view+json": {
       "model_id": "9c0fc360652144098322a2f8b87ff329",
       "version_major": 2,
       "version_minor": 0
      },
      "text/plain": [
       "FloatSlider(value=0.5, description='LOWER_LIP_RIGHT (15)', layout=Layout(width='80%'), max=1.0, readout_format…"
      ]
     },
     "metadata": {},
     "output_type": "display_data"
    },
    {
     "data": {
      "application/vnd.jupyter.widget-view+json": {
       "model_id": "50e9bd9dcd2e4a1eade6a5b8fbd3092f",
       "version_major": 2,
       "version_minor": 0
      },
      "text/plain": [
       "FloatSlider(value=0.5, description='LOWER_LIP_LEFT (16)', layout=Layout(width='80%'), max=1.0, readout_format=…"
      ]
     },
     "metadata": {},
     "output_type": "display_data"
    },
    {
     "data": {
      "application/vnd.jupyter.widget-view+json": {
       "model_id": "c75325fc1713470499a76e4fb5aaf068",
       "version_major": 2,
       "version_minor": 0
      },
      "text/plain": [
       "FloatSlider(value=0.5, description='LOWER_LIP_CENTER (17)', layout=Layout(width='80%'), max=1.0, readout_forma…"
      ]
     },
     "metadata": {},
     "output_type": "display_data"
    },
    {
     "data": {
      "application/vnd.jupyter.widget-view+json": {
       "model_id": "d94091a049484485bf543046878cedeb",
       "version_major": 2,
       "version_minor": 0
      },
      "text/plain": [
       "FloatSlider(value=0.5, description='UPPER_LIP_RIGHT (18)', layout=Layout(width='80%'), max=1.0, readout_format…"
      ]
     },
     "metadata": {},
     "output_type": "display_data"
    },
    {
     "data": {
      "application/vnd.jupyter.widget-view+json": {
       "model_id": "f34181ae050d42cda061fe856a286c78",
       "version_major": 2,
       "version_minor": 0
      },
      "text/plain": [
       "FloatSlider(value=0.5, description='UPPER_LIP_LEFT (19)', layout=Layout(width='80%'), max=1.0, readout_format=…"
      ]
     },
     "metadata": {},
     "output_type": "display_data"
    },
    {
     "data": {
      "application/vnd.jupyter.widget-view+json": {
       "model_id": "e7394d70ad584595a58d02ced14323d6",
       "version_major": 2,
       "version_minor": 0
      },
      "text/plain": [
       "FloatSlider(value=0.5, description='UPPER_LIP_CENTER (20)', layout=Layout(width='80%'), max=1.0, readout_forma…"
      ]
     },
     "metadata": {},
     "output_type": "display_data"
    },
    {
     "data": {
      "application/vnd.jupyter.widget-view+json": {
       "model_id": "dedf09ab9e624eacaeb64ba44e1b0173",
       "version_major": 2,
       "version_minor": 0
      },
      "text/plain": [
       "FloatSlider(value=0.5, description='SMILE_FROWN_RIGHT (21)', layout=Layout(width='80%'), max=1.0, readout_form…"
      ]
     },
     "metadata": {},
     "output_type": "display_data"
    },
    {
     "data": {
      "application/vnd.jupyter.widget-view+json": {
       "model_id": "0959f27c0b774e93a064aabc11155837",
       "version_major": 2,
       "version_minor": 0
      },
      "text/plain": [
       "FloatSlider(value=0.5, description='EE_OO (22)', layout=Layout(width='80%'), max=1.0, readout_format='.1f', st…"
      ]
     },
     "metadata": {},
     "output_type": "display_data"
    },
    {
     "data": {
      "application/vnd.jupyter.widget-view+json": {
       "model_id": "32afc28de6c14f5bb8171c625634cac1",
       "version_major": 2,
       "version_minor": 0
      },
      "text/plain": [
       "FloatSlider(value=0.5, description='SMILE_FROWN_LEFT (23)', layout=Layout(width='80%'), max=1.0, readout_forma…"
      ]
     },
     "metadata": {},
     "output_type": "display_data"
    },
    {
     "data": {
      "application/vnd.jupyter.widget-view+json": {
       "model_id": "7cd1a5abac0a41a1b7f1d72cf1bf0435",
       "version_major": 2,
       "version_minor": 0
      },
      "text/plain": [
       "FloatSlider(value=0.5, description='TURN (24)', layout=Layout(width='80%'), max=1.0, readout_format='.1f', ste…"
      ]
     },
     "metadata": {},
     "output_type": "display_data"
    },
    {
     "data": {
      "application/vnd.jupyter.widget-view+json": {
       "model_id": "ff0415b450994bfab9d228bdc522aad7",
       "version_major": 2,
       "version_minor": 0
      },
      "text/plain": [
       "FloatSlider(value=0.5, description='TILT (25)', layout=Layout(width='80%'), max=1.0, readout_format='.1f', ste…"
      ]
     },
     "metadata": {},
     "output_type": "display_data"
    },
    {
     "data": {
      "application/vnd.jupyter.widget-view+json": {
       "model_id": "2b98a9430d0b4299821a64638cb31433",
       "version_major": 2,
       "version_minor": 0
      },
      "text/plain": [
       "FloatSlider(value=0.5, description='NOD (26)', layout=Layout(width='80%'), max=1.0, readout_format='.1f', step…"
      ]
     },
     "metadata": {},
     "output_type": "display_data"
    },
    {
     "data": {
      "application/vnd.jupyter.widget-view+json": {
       "model_id": "c1419ed2adf7446095bd8e464c2ab7a5",
       "version_major": 2,
       "version_minor": 0
      },
      "text/plain": [
       "FloatSlider(value=0.5, description='JAW (27)', layout=Layout(width='80%'), max=1.0, readout_format='.1f', step…"
      ]
     },
     "metadata": {},
     "output_type": "display_data"
    },
    {
     "name": "stdout",
     "output_type": "stream",
     "text": [
      "Setting JAW to 0.45\n",
      "Setting JAW to 0.4\n",
      "Setting JAW to 0.35\n",
      "Setting JAW to 0.3\n",
      "Setting JAW to 0.25\n",
      "Setting JAW to 0.2\n",
      "Setting JAW to 0.15\n",
      "Setting JAW to 0.1\n",
      "Setting JAW to 0.05\n",
      "Setting JAW to 0.0\n",
      "Setting JAW to 0.05\n",
      "Setting JAW to 0.1\n",
      "Setting JAW to 0.15\n",
      "Setting JAW to 0.2\n",
      "Setting JAW to 0.25\n",
      "Setting JAW to 0.3\n",
      "Setting JAW to 0.4\n",
      "Setting JAW to 0.45\n",
      "Setting JAW to 0.5\n",
      "Setting JAW to 0.55\n",
      "Setting JAW to 0.6\n",
      "Setting JAW to 0.65\n",
      "Setting JAW to 0.7\n",
      "Setting JAW to 0.75\n",
      "Setting JAW to 0.8\n",
      "Setting JAW to 0.85\n",
      "Setting JAW to 0.9\n",
      "Setting JAW to 0.95\n",
      "Setting JAW to 1.0\n",
      "Setting JAW to 0.9\n",
      "Setting JAW to 0.85\n",
      "Setting JAW to 0.8\n",
      "Setting JAW to 0.75\n",
      "Setting JAW to 0.7\n",
      "Setting JAW to 0.65\n",
      "Setting JAW to 0.6\n",
      "Setting JAW to 0.55\n",
      "Setting JAW to 0.5\n",
      "Setting JAW to 0.55\n",
      "Setting JAW to 0.6\n",
      "Setting JAW to 0.65\n",
      "Setting JAW to 0.7\n",
      "Setting JAW to 0.75\n",
      "Setting JAW to 0.8\n",
      "Setting JAW to 0.9\n",
      "Setting JAW to 0.95\n",
      "Setting JAW to 1.0\n",
      "Setting JAW to 0.95\n",
      "Setting JAW to 0.9\n",
      "Setting JAW to 0.8\n",
      "Setting JAW to 0.7\n",
      "Setting JAW to 0.5\n",
      "Setting JAW to 0.45\n",
      "Setting JAW to 0.3\n",
      "Setting JAW to 0.15\n",
      "Setting JAW to 0.05\n",
      "Setting JAW to 0.0\n",
      "Setting LOWER_LIP_CENTER to 0.45\n",
      "Setting LOWER_LIP_CENTER to 0.4\n",
      "Setting LOWER_LIP_CENTER to 0.35\n",
      "Setting LOWER_LIP_CENTER to 0.3\n",
      "Setting LOWER_LIP_CENTER to 0.25\n",
      "Setting LOWER_LIP_CENTER to 0.2\n",
      "Setting LOWER_LIP_CENTER to 0.15\n",
      "Setting LOWER_LIP_CENTER to 0.1\n",
      "Setting LOWER_LIP_LEFT to 0.45\n",
      "Setting LOWER_LIP_LEFT to 0.4\n",
      "Setting LOWER_LIP_LEFT to 0.35\n",
      "Setting LOWER_LIP_LEFT to 0.3\n",
      "Setting LOWER_LIP_LEFT to 0.25\n",
      "Setting LOWER_LIP_LEFT to 0.2\n",
      "Setting LOWER_LIP_LEFT to 0.25\n",
      "Setting LOWER_LIP_LEFT to 0.3\n",
      "Setting LOWER_LIP_LEFT to 0.4\n",
      "Setting LOWER_LIP_LEFT to 0.5\n",
      "Setting LOWER_LIP_LEFT to 0.6\n",
      "Setting LOWER_LIP_LEFT to 0.65\n",
      "Setting LOWER_LIP_LEFT to 0.75\n",
      "Setting LOWER_LIP_LEFT to 0.8\n",
      "Setting LOWER_LIP_LEFT to 0.85\n",
      "Setting LOWER_LIP_LEFT to 0.9\n",
      "Setting LOWER_LIP_LEFT to 0.95\n",
      "Setting LOWER_LIP_LEFT to 1.0\n",
      "Setting LOWER_LIP_RIGHT to 0.55\n",
      "Setting LOWER_LIP_RIGHT to 0.6\n",
      "Setting LOWER_LIP_RIGHT to 0.65\n",
      "Setting LOWER_LIP_RIGHT to 0.7\n",
      "Setting LOWER_LIP_RIGHT to 0.75\n",
      "Setting LOWER_LIP_RIGHT to 0.8\n",
      "Setting LOWER_LIP_RIGHT to 0.85\n",
      "Setting LOWER_LIP_RIGHT to 0.9\n",
      "Setting LOWER_LIP_RIGHT to 0.95\n",
      "Setting LOWER_LIP_RIGHT to 1.0\n",
      "Setting LOWER_LIP_RIGHT to 0.95\n",
      "Setting LOWER_LIP_RIGHT to 0.9\n",
      "Setting LOWER_LIP_RIGHT to 0.85\n",
      "Setting LOWER_LIP_RIGHT to 0.8\n",
      "Setting LOWER_LIP_RIGHT to 0.75\n",
      "Setting LOWER_LIP_RIGHT to 0.7\n",
      "Setting LOWER_LIP_RIGHT to 0.65\n",
      "Setting LOWER_LIP_LEFT to 0.95\n",
      "Setting LOWER_LIP_LEFT to 0.9\n",
      "Setting LOWER_LIP_LEFT to 0.85\n",
      "Setting LOWER_LIP_LEFT to 0.8\n",
      "Setting LOWER_LIP_LEFT to 0.75\n",
      "Setting LOWER_LIP_LEFT to 0.7\n",
      "Setting LOWER_LIP_LEFT to 0.65\n",
      "Setting LOWER_LIP_LEFT to 0.6\n",
      "Setting LOWER_LIP_LEFT to 0.55\n",
      "Setting LOWER_LIP_LEFT to 0.5\n",
      "Setting LOWER_LIP_LEFT to 0.45\n",
      "Setting LOWER_LIP_LEFT to 0.4\n",
      "Setting LOWER_LIP_LEFT to 0.35\n",
      "Setting LOWER_LIP_LEFT to 0.3\n",
      "Setting LOWER_LIP_LEFT to 0.35\n",
      "Setting LOWER_LIP_LEFT to 0.4\n",
      "Setting LEFT_EYE_TURN to 0.45\n",
      "Setting LEFT_EYE_TURN to 0.4\n",
      "Setting LEFT_EYE_TURN to 0.35\n",
      "Setting LEFT_EYE_TURN to 0.3\n",
      "Setting LEFT_EYE_TURN to 0.25\n",
      "Setting LEFT_EYE_TURN to 0.2\n",
      "Setting LEFT_EYE_TURN to 0.15\n",
      "Setting LEFT_EYE_TURN to 0.1\n",
      "Setting LEFT_EYE_TURN to 0.05\n",
      "Setting LEFT_EYE_TURN to 0.0\n",
      "Setting LEFT_EYE_TURN to 0.05\n",
      "Setting LEFT_EYE_TURN to 0.1\n",
      "Setting LEFT_EYE_TURN to 0.15\n",
      "Setting LEFT_EYE_TURN to 0.2\n",
      "Setting LEFT_EYE_TURN to 0.25\n",
      "Setting LEFT_EYE_TURN to 0.3\n",
      "Setting LEFT_EYE_TURN to 0.35\n",
      "Setting UPPER_LIP_RIGHT to 0.45\n",
      "Setting UPPER_LIP_RIGHT to 0.4\n",
      "Setting UPPER_LIP_RIGHT to 0.35\n",
      "Setting UPPER_LIP_RIGHT to 0.3\n",
      "Setting UPPER_LIP_RIGHT to 0.25\n",
      "Setting UPPER_LIP_RIGHT to 0.2\n",
      "Setting UPPER_LIP_RIGHT to 0.15\n",
      "Setting UPPER_LIP_RIGHT to 0.2\n",
      "Setting UPPER_LIP_RIGHT to 0.3\n",
      "Setting UPPER_LIP_RIGHT to 0.35\n",
      "Setting UPPER_LIP_RIGHT to 0.45\n",
      "Setting UPPER_LIP_RIGHT to 0.55\n",
      "Setting UPPER_LIP_RIGHT to 0.65\n",
      "Setting UPPER_LIP_RIGHT to 0.8\n",
      "Setting UPPER_LIP_RIGHT to 0.9\n",
      "Setting UPPER_LIP_RIGHT to 1.0\n",
      "Setting UPPER_LIP_RIGHT to 0.95\n",
      "Setting UPPER_LIP_RIGHT to 0.9\n",
      "Setting UPPER_LIP_RIGHT to 0.85\n",
      "Setting UPPER_LIP_RIGHT to 0.8\n",
      "Setting UPPER_LIP_RIGHT to 0.75\n",
      "Setting UPPER_LIP_RIGHT to 0.7\n",
      "Setting UPPER_LIP_RIGHT to 0.65\n",
      "Setting UPPER_LIP_RIGHT to 0.6\n",
      "Setting UPPER_LIP_RIGHT to 0.55\n",
      "Setting UPPER_LIP_RIGHT to 0.5\n",
      "Setting UPPER_LIP_RIGHT to 0.45\n",
      "Setting UPPER_LIP_RIGHT to 0.4\n",
      "Setting UPPER_LIP_RIGHT to 0.35\n",
      "Setting UPPER_LIP_RIGHT to 0.3\n",
      "Setting UPPER_LIP_RIGHT to 0.25\n",
      "Setting UPPER_LIP_RIGHT to 0.2\n",
      "Setting UPPER_LIP_RIGHT to 0.25\n",
      "Setting UPPER_LIP_LEFT to 0.45\n",
      "Setting UPPER_LIP_LEFT to 0.4\n",
      "Setting UPPER_LIP_LEFT to 0.35\n",
      "Setting UPPER_LIP_LEFT to 0.3\n",
      "Setting LEFT_EYE_TURN to 0.3\n",
      "Setting LEFT_EYE_TURN to 0.25\n",
      "Setting LEFT_EYE_TURN to 0.2\n",
      "Setting LEFT_EYE_TURN to 0.25\n",
      "Setting LEFT_EYE_TURN to 0.3\n",
      "Setting LEFT_EYE_TURN to 0.35\n",
      "Setting LEFT_EYE_TURN to 0.4\n",
      "Setting LEFT_EYE_TURN to 0.45\n",
      "Setting LEFT_EYE_TURN to 0.5\n",
      "Setting LEFT_EYE_TURN to 0.55\n",
      "Setting LEFT_EYE_TURN to 0.5\n",
      "Setting NOD to 0.45\n"
     ]
    }
   ],
   "source": [
    "vw = widgets.IntSlider(\n",
    "        value=10,\n",
    "        min=0, max=100,\n",
    "        step=5,\n",
    "        description=\"Velocity\",\n",
    "        readout=True,\n",
    "        style={'description_width': '30%'},\n",
    "        layout={'width': '50%'}\n",
    "    )\n",
    "display(vw)\n",
    "\n",
    "\n",
    "def on_value_change(change):\n",
    "    action = change['owner'].description.split(\" \")[0]  # Only the first word is the key\n",
    "    new_val = float(change['new'])\n",
    "    print(\"Setting {} to {}\".format(action, new_val))\n",
    "    charles.outputs[action].set_float_pos(new_val, velocity=vw.value)\n",
    "\n",
    "for k in charles.outputs.keys():\n",
    "    w = widgets.FloatSlider(\n",
    "        value=0.5,\n",
    "        min=0, max=1.0,\n",
    "        step=0.05,\n",
    "        description=\"{} ({})\".format(k, charles.outputs[k].id),\n",
    "        readout=True,\n",
    "        readout_format = '.1f',\n",
    "        style={'description_width': '30%'},\n",
    "        layout={'width': '80%'}\n",
    "    )\n",
    "    w.unobserve_all()\n",
    "    w.observe(on_value_change, names='value')\n",
    "    display(w)"
   ]
  },
  {
   "cell_type": "code",
   "execution_count": null,
   "metadata": {},
   "outputs": [],
   "source": []
  },
  {
   "cell_type": "code",
   "execution_count": null,
   "metadata": {},
   "outputs": [],
   "source": []
  }
 ],
 "metadata": {
  "kernelspec": {
   "display_name": "Python 3",
   "language": "python",
   "name": "python3"
  },
  "language_info": {
   "codemirror_mode": {
    "name": "ipython",
    "version": 3
   },
   "file_extension": ".py",
   "mimetype": "text/x-python",
   "name": "python",
   "nbconvert_exporter": "python",
   "pygments_lexer": "ipython3",
   "version": "3.7.1"
  }
 },
 "nbformat": 4,
 "nbformat_minor": 2
}
